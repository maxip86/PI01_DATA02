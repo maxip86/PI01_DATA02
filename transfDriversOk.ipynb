{
 "cells": [
  {
   "cell_type": "code",
   "execution_count": 2,
   "metadata": {},
   "outputs": [],
   "source": [
    "import pandas as pd\n",
    "import numpy as np"
   ]
  },
  {
   "cell_type": "code",
   "execution_count": 9,
   "metadata": {},
   "outputs": [
    {
     "data": {
      "text/html": [
       "<div>\n",
       "<style scoped>\n",
       "    .dataframe tbody tr th:only-of-type {\n",
       "        vertical-align: middle;\n",
       "    }\n",
       "\n",
       "    .dataframe tbody tr th {\n",
       "        vertical-align: top;\n",
       "    }\n",
       "\n",
       "    .dataframe thead th {\n",
       "        text-align: right;\n",
       "    }\n",
       "</style>\n",
       "<table border=\"1\" class=\"dataframe\">\n",
       "  <thead>\n",
       "    <tr style=\"text-align: right;\">\n",
       "      <th></th>\n",
       "      <th>driverId</th>\n",
       "      <th>driverRef</th>\n",
       "      <th>number</th>\n",
       "      <th>code</th>\n",
       "      <th>name</th>\n",
       "      <th>dob</th>\n",
       "      <th>nationality</th>\n",
       "      <th>url</th>\n",
       "    </tr>\n",
       "  </thead>\n",
       "  <tbody>\n",
       "    <tr>\n",
       "      <th>0</th>\n",
       "      <td>1</td>\n",
       "      <td>hamilton</td>\n",
       "      <td>44</td>\n",
       "      <td>HAM</td>\n",
       "      <td>{'forename': 'Lewis', 'surname': 'Hamilton'}</td>\n",
       "      <td>1985-01-07</td>\n",
       "      <td>British</td>\n",
       "      <td>http://en.wikipedia.org/wiki/Lewis_Hamilton</td>\n",
       "    </tr>\n",
       "    <tr>\n",
       "      <th>1</th>\n",
       "      <td>2</td>\n",
       "      <td>heidfeld</td>\n",
       "      <td>\\N</td>\n",
       "      <td>HEI</td>\n",
       "      <td>{'forename': 'Nick', 'surname': 'Heidfeld'}</td>\n",
       "      <td>1977-05-10</td>\n",
       "      <td>German</td>\n",
       "      <td>http://en.wikipedia.org/wiki/Nick_Heidfeld</td>\n",
       "    </tr>\n",
       "    <tr>\n",
       "      <th>2</th>\n",
       "      <td>3</td>\n",
       "      <td>rosberg</td>\n",
       "      <td>6</td>\n",
       "      <td>ROS</td>\n",
       "      <td>{'forename': 'Nico', 'surname': 'Rosberg'}</td>\n",
       "      <td>1985-06-27</td>\n",
       "      <td>German</td>\n",
       "      <td>http://en.wikipedia.org/wiki/Nico_Rosberg</td>\n",
       "    </tr>\n",
       "    <tr>\n",
       "      <th>3</th>\n",
       "      <td>4</td>\n",
       "      <td>alonso</td>\n",
       "      <td>14</td>\n",
       "      <td>ALO</td>\n",
       "      <td>{'forename': 'Fernando', 'surname': 'Alonso'}</td>\n",
       "      <td>1981-07-29</td>\n",
       "      <td>Spanish</td>\n",
       "      <td>http://en.wikipedia.org/wiki/Fernando_Alonso</td>\n",
       "    </tr>\n",
       "    <tr>\n",
       "      <th>4</th>\n",
       "      <td>5</td>\n",
       "      <td>kovalainen</td>\n",
       "      <td>\\N</td>\n",
       "      <td>KOV</td>\n",
       "      <td>{'forename': 'Heikki', 'surname': 'Kovalainen'}</td>\n",
       "      <td>1981-10-19</td>\n",
       "      <td>Finnish</td>\n",
       "      <td>http://en.wikipedia.org/wiki/Heikki_Kovalainen</td>\n",
       "    </tr>\n",
       "  </tbody>\n",
       "</table>\n",
       "</div>"
      ],
      "text/plain": [
       "   driverId   driverRef number code  \\\n",
       "0         1    hamilton     44  HAM   \n",
       "1         2    heidfeld     \\N  HEI   \n",
       "2         3     rosberg      6  ROS   \n",
       "3         4      alonso     14  ALO   \n",
       "4         5  kovalainen     \\N  KOV   \n",
       "\n",
       "                                              name         dob nationality  \\\n",
       "0     {'forename': 'Lewis', 'surname': 'Hamilton'}  1985-01-07     British   \n",
       "1      {'forename': 'Nick', 'surname': 'Heidfeld'}  1977-05-10      German   \n",
       "2       {'forename': 'Nico', 'surname': 'Rosberg'}  1985-06-27      German   \n",
       "3    {'forename': 'Fernando', 'surname': 'Alonso'}  1981-07-29     Spanish   \n",
       "4  {'forename': 'Heikki', 'surname': 'Kovalainen'}  1981-10-19     Finnish   \n",
       "\n",
       "                                              url  \n",
       "0     http://en.wikipedia.org/wiki/Lewis_Hamilton  \n",
       "1      http://en.wikipedia.org/wiki/Nick_Heidfeld  \n",
       "2       http://en.wikipedia.org/wiki/Nico_Rosberg  \n",
       "3    http://en.wikipedia.org/wiki/Fernando_Alonso  \n",
       "4  http://en.wikipedia.org/wiki/Heikki_Kovalainen  "
      ]
     },
     "execution_count": 9,
     "metadata": {},
     "output_type": "execute_result"
    }
   ],
   "source": [
    "df = pd.read_json('../PI01_DATA03/Datasets/drivers.json', lines=True)\n",
    "df.head()"
   ]
  },
  {
   "cell_type": "code",
   "execution_count": 11,
   "metadata": {},
   "outputs": [],
   "source": [
    "df[\"number\"].replace(\"\\\\N\", \"\", inplace=True)"
   ]
  },
  {
   "cell_type": "code",
   "execution_count": 7,
   "metadata": {},
   "outputs": [],
   "source": [
    "df[\"number\"].replace(\"\\\\N\", np.NaN, inplace=True)"
   ]
  },
  {
   "cell_type": "code",
   "execution_count": 13,
   "metadata": {},
   "outputs": [],
   "source": [
    "df[\"code\"].replace(\"\\\\N\", \"\", inplace=True)"
   ]
  },
  {
   "cell_type": "code",
   "execution_count": 14,
   "metadata": {},
   "outputs": [
    {
     "data": {
      "text/plain": [
       "driverId        int64\n",
       "driverRef      object\n",
       "number         object\n",
       "code           object\n",
       "name           object\n",
       "dob            object\n",
       "nationality    object\n",
       "url            object\n",
       "dtype: object"
      ]
     },
     "execution_count": 14,
     "metadata": {},
     "output_type": "execute_result"
    }
   ],
   "source": [
    "df.dtypes"
   ]
  },
  {
   "cell_type": "code",
   "execution_count": 15,
   "metadata": {},
   "outputs": [],
   "source": [
    "diccionario_drivers = {\"driverId\":[],\n",
    "               \"driverRef\":[],\n",
    "               \"number\":[],\n",
    "               \"code\":[],\n",
    "               \"name\":[],\n",
    "               \"surname\":[],\n",
    "               \"dob\":[],\n",
    "               \"nationality\":[],\n",
    "               \"url\":[]}"
   ]
  },
  {
   "cell_type": "code",
   "execution_count": 16,
   "metadata": {},
   "outputs": [
    {
     "name": "stdout",
     "output_type": "stream",
     "text": [
      "<class 'list'>\n",
      "<class 'int'>\n",
      "[1, 2, 3]\n"
     ]
    }
   ],
   "source": [
    "diccionario_drivers[\"driverId\"] = [int(df[\"driverId\"][i]) for i in range(df[\"driverId\"].size)]\n",
    "print(type(diccionario_drivers[\"driverId\"]))\n",
    "print(type(diccionario_drivers[\"driverId\"][0]))\n",
    "print(diccionario_drivers[\"driverId\"][0:3])"
   ]
  },
  {
   "cell_type": "code",
   "execution_count": 17,
   "metadata": {},
   "outputs": [
    {
     "name": "stdout",
     "output_type": "stream",
     "text": [
      "<class 'list'>\n",
      "<class 'str'>\n",
      "['hamilton', 'heidfeld', 'rosberg']\n"
     ]
    }
   ],
   "source": [
    "diccionario_drivers[\"driverRef\"] = [(df[\"driverRef\"][i]) for i in range(df[\"driverRef\"].size)]\n",
    "print(type(diccionario_drivers[\"driverRef\"]))\n",
    "print(type(diccionario_drivers[\"driverRef\"][0]))\n",
    "print(diccionario_drivers[\"driverRef\"][0:3])"
   ]
  },
  {
   "cell_type": "code",
   "execution_count": 18,
   "metadata": {},
   "outputs": [
    {
     "name": "stdout",
     "output_type": "stream",
     "text": [
      "[44, '', 6]\n"
     ]
    }
   ],
   "source": [
    "diccionario_drivers[\"number\"] = [(df[\"number\"][i]) for i in range(df[\"number\"].size)]\n",
    "#print(type(diccionario_drivers[\"number\"]))\n",
    "#print(type(diccionario_drivers[\"number\"][0]))\n",
    "#print(type(diccionario_drivers[\"number\"][1]))\n",
    "print(diccionario_drivers[\"number\"][0:3])\n",
    "#[int(\"0\") if value == \"\\\\N\" else value for value in diccionario_drivers[\"number\"]]\n",
    "#[\"hola\" if value == \"NA\" else value for value in diccionario_drivers[\"number\"]]\n",
    "#print(type(diccionario_drivers[\"number\"][1]))\n"
   ]
  },
  {
   "cell_type": "code",
   "execution_count": 19,
   "metadata": {},
   "outputs": [
    {
     "name": "stdout",
     "output_type": "stream",
     "text": [
      "<class 'str'>\n"
     ]
    }
   ],
   "source": [
    "print(type(diccionario_drivers[\"number\"][1]))"
   ]
  },
  {
   "cell_type": "code",
   "execution_count": 20,
   "metadata": {},
   "outputs": [
    {
     "name": "stdout",
     "output_type": "stream",
     "text": [
      "<class 'list'>\n",
      "<class 'str'>\n",
      "['HAM', 'HEI', 'ROS']\n"
     ]
    }
   ],
   "source": [
    "diccionario_drivers[\"code\"] = [(df[\"code\"][i]) for i in range(df[\"code\"].size)]\n",
    "print(type(diccionario_drivers[\"code\"]))\n",
    "print(type(diccionario_drivers[\"code\"][0]))\n",
    "print(diccionario_drivers[\"code\"][0:3])"
   ]
  },
  {
   "cell_type": "code",
   "execution_count": 21,
   "metadata": {},
   "outputs": [
    {
     "name": "stdout",
     "output_type": "stream",
     "text": [
      "<class 'list'>\n",
      "<class 'str'>\n",
      "['Lewis', 'Nick', 'Nico']\n"
     ]
    }
   ],
   "source": [
    "diccionario_drivers[\"name\"] = [(df[\"name\"][i][\"forename\"]) for i in range(df[\"name\"].size)]\n",
    "print(type(diccionario_drivers[\"name\"]))\n",
    "print(type(diccionario_drivers[\"name\"][0]))\n",
    "print(diccionario_drivers[\"name\"][0:3])"
   ]
  },
  {
   "cell_type": "code",
   "execution_count": 22,
   "metadata": {},
   "outputs": [
    {
     "name": "stdout",
     "output_type": "stream",
     "text": [
      "<class 'list'>\n",
      "<class 'str'>\n",
      "['Hamilton', 'Heidfeld', 'Rosberg']\n"
     ]
    }
   ],
   "source": [
    "diccionario_drivers[\"surname\"] = [(df[\"name\"][i][\"surname\"]) for i in range(df[\"name\"].size)]\n",
    "print(type(diccionario_drivers[\"surname\"]))\n",
    "print(type(diccionario_drivers[\"surname\"][0]))\n",
    "print(diccionario_drivers[\"surname\"][0:3])"
   ]
  },
  {
   "cell_type": "code",
   "execution_count": 23,
   "metadata": {},
   "outputs": [
    {
     "name": "stdout",
     "output_type": "stream",
     "text": [
      "<class 'list'>\n",
      "<class 'str'>\n",
      "['1985-01-07', '1977-05-10', '1985-06-27']\n"
     ]
    }
   ],
   "source": [
    "diccionario_drivers[\"dob\"] = [(df[\"dob\"][i]) for i in range(df[\"dob\"].size)]\n",
    "print(type(diccionario_drivers[\"dob\"]))\n",
    "print(type(diccionario_drivers[\"dob\"][0]))\n",
    "print(diccionario_drivers[\"dob\"][0:3])"
   ]
  },
  {
   "cell_type": "code",
   "execution_count": 24,
   "metadata": {},
   "outputs": [
    {
     "name": "stdout",
     "output_type": "stream",
     "text": [
      "<class 'list'>\n",
      "<class 'str'>\n",
      "['British', 'German', 'German']\n"
     ]
    }
   ],
   "source": [
    "diccionario_drivers[\"nationality\"] = [(df[\"nationality\"][i]) for i in range(df[\"nationality\"].size)]\n",
    "print(type(diccionario_drivers[\"nationality\"]))\n",
    "print(type(diccionario_drivers[\"nationality\"][0]))\n",
    "print(diccionario_drivers[\"nationality\"][0:3])"
   ]
  },
  {
   "cell_type": "code",
   "execution_count": 25,
   "metadata": {},
   "outputs": [
    {
     "name": "stdout",
     "output_type": "stream",
     "text": [
      "<class 'list'>\n",
      "<class 'str'>\n",
      "['http://en.wikipedia.org/wiki/Lewis_Hamilton', 'http://en.wikipedia.org/wiki/Nick_Heidfeld', 'http://en.wikipedia.org/wiki/Nico_Rosberg']\n"
     ]
    }
   ],
   "source": [
    "diccionario_drivers[\"url\"] = [(df[\"url\"][i]) for i in range(df[\"url\"].size)]\n",
    "print(type(diccionario_drivers[\"url\"]))\n",
    "print(type(diccionario_drivers[\"url\"][0]))\n",
    "print(diccionario_drivers[\"url\"][0:3])"
   ]
  },
  {
   "cell_type": "code",
   "execution_count": 26,
   "metadata": {},
   "outputs": [
    {
     "data": {
      "text/html": [
       "<div>\n",
       "<style scoped>\n",
       "    .dataframe tbody tr th:only-of-type {\n",
       "        vertical-align: middle;\n",
       "    }\n",
       "\n",
       "    .dataframe tbody tr th {\n",
       "        vertical-align: top;\n",
       "    }\n",
       "\n",
       "    .dataframe thead th {\n",
       "        text-align: right;\n",
       "    }\n",
       "</style>\n",
       "<table border=\"1\" class=\"dataframe\">\n",
       "  <thead>\n",
       "    <tr style=\"text-align: right;\">\n",
       "      <th></th>\n",
       "      <th>driverId</th>\n",
       "      <th>driverRef</th>\n",
       "      <th>number</th>\n",
       "      <th>code</th>\n",
       "      <th>name</th>\n",
       "      <th>surname</th>\n",
       "      <th>dob</th>\n",
       "      <th>nationality</th>\n",
       "      <th>url</th>\n",
       "    </tr>\n",
       "  </thead>\n",
       "  <tbody>\n",
       "    <tr>\n",
       "      <th>0</th>\n",
       "      <td>1</td>\n",
       "      <td>hamilton</td>\n",
       "      <td>44</td>\n",
       "      <td>HAM</td>\n",
       "      <td>Lewis</td>\n",
       "      <td>Hamilton</td>\n",
       "      <td>1985-01-07</td>\n",
       "      <td>British</td>\n",
       "      <td>http://en.wikipedia.org/wiki/Lewis_Hamilton</td>\n",
       "    </tr>\n",
       "    <tr>\n",
       "      <th>1</th>\n",
       "      <td>2</td>\n",
       "      <td>heidfeld</td>\n",
       "      <td></td>\n",
       "      <td>HEI</td>\n",
       "      <td>Nick</td>\n",
       "      <td>Heidfeld</td>\n",
       "      <td>1977-05-10</td>\n",
       "      <td>German</td>\n",
       "      <td>http://en.wikipedia.org/wiki/Nick_Heidfeld</td>\n",
       "    </tr>\n",
       "    <tr>\n",
       "      <th>2</th>\n",
       "      <td>3</td>\n",
       "      <td>rosberg</td>\n",
       "      <td>6</td>\n",
       "      <td>ROS</td>\n",
       "      <td>Nico</td>\n",
       "      <td>Rosberg</td>\n",
       "      <td>1985-06-27</td>\n",
       "      <td>German</td>\n",
       "      <td>http://en.wikipedia.org/wiki/Nico_Rosberg</td>\n",
       "    </tr>\n",
       "    <tr>\n",
       "      <th>3</th>\n",
       "      <td>4</td>\n",
       "      <td>alonso</td>\n",
       "      <td>14</td>\n",
       "      <td>ALO</td>\n",
       "      <td>Fernando</td>\n",
       "      <td>Alonso</td>\n",
       "      <td>1981-07-29</td>\n",
       "      <td>Spanish</td>\n",
       "      <td>http://en.wikipedia.org/wiki/Fernando_Alonso</td>\n",
       "    </tr>\n",
       "    <tr>\n",
       "      <th>4</th>\n",
       "      <td>5</td>\n",
       "      <td>kovalainen</td>\n",
       "      <td></td>\n",
       "      <td>KOV</td>\n",
       "      <td>Heikki</td>\n",
       "      <td>Kovalainen</td>\n",
       "      <td>1981-10-19</td>\n",
       "      <td>Finnish</td>\n",
       "      <td>http://en.wikipedia.org/wiki/Heikki_Kovalainen</td>\n",
       "    </tr>\n",
       "    <tr>\n",
       "      <th>...</th>\n",
       "      <td>...</td>\n",
       "      <td>...</td>\n",
       "      <td>...</td>\n",
       "      <td>...</td>\n",
       "      <td>...</td>\n",
       "      <td>...</td>\n",
       "      <td>...</td>\n",
       "      <td>...</td>\n",
       "      <td>...</td>\n",
       "    </tr>\n",
       "    <tr>\n",
       "      <th>848</th>\n",
       "      <td>850</td>\n",
       "      <td>pietro_fittipaldi</td>\n",
       "      <td>51</td>\n",
       "      <td>FIT</td>\n",
       "      <td>Pietro</td>\n",
       "      <td>Fittipaldi</td>\n",
       "      <td>1996-06-25</td>\n",
       "      <td>Brazilian</td>\n",
       "      <td>http://en.wikipedia.org/wiki/Pietro_Fittipaldi</td>\n",
       "    </tr>\n",
       "    <tr>\n",
       "      <th>849</th>\n",
       "      <td>851</td>\n",
       "      <td>aitken</td>\n",
       "      <td>89</td>\n",
       "      <td>AIT</td>\n",
       "      <td>Jack</td>\n",
       "      <td>Aitken</td>\n",
       "      <td>1995-09-23</td>\n",
       "      <td>British</td>\n",
       "      <td>http://en.wikipedia.org/wiki/Jack_Aitken</td>\n",
       "    </tr>\n",
       "    <tr>\n",
       "      <th>850</th>\n",
       "      <td>852</td>\n",
       "      <td>tsunoda</td>\n",
       "      <td></td>\n",
       "      <td>TSU</td>\n",
       "      <td>Yuki</td>\n",
       "      <td>Tsunoda</td>\n",
       "      <td>2000-05-11</td>\n",
       "      <td>Japanese</td>\n",
       "      <td>http://en.wikipedia.org/wiki/Yuki_Tsunoda</td>\n",
       "    </tr>\n",
       "    <tr>\n",
       "      <th>851</th>\n",
       "      <td>853</td>\n",
       "      <td>mazepin</td>\n",
       "      <td></td>\n",
       "      <td>MAZ</td>\n",
       "      <td>Nikita</td>\n",
       "      <td>Mazepin</td>\n",
       "      <td>1999-03-02</td>\n",
       "      <td>Russian</td>\n",
       "      <td>http://en.wikipedia.org/wiki/Nikita_Mazepin</td>\n",
       "    </tr>\n",
       "    <tr>\n",
       "      <th>852</th>\n",
       "      <td>854</td>\n",
       "      <td>mick_schumacher</td>\n",
       "      <td></td>\n",
       "      <td>SCH</td>\n",
       "      <td>Mick</td>\n",
       "      <td>Schumacher</td>\n",
       "      <td>1999-03-22</td>\n",
       "      <td>German</td>\n",
       "      <td>http://en.wikipedia.org/wiki/Mick_Schumacher</td>\n",
       "    </tr>\n",
       "  </tbody>\n",
       "</table>\n",
       "<p>853 rows × 9 columns</p>\n",
       "</div>"
      ],
      "text/plain": [
       "     driverId          driverRef number code      name     surname  \\\n",
       "0           1           hamilton     44  HAM     Lewis    Hamilton   \n",
       "1           2           heidfeld         HEI      Nick    Heidfeld   \n",
       "2           3            rosberg      6  ROS      Nico     Rosberg   \n",
       "3           4             alonso     14  ALO  Fernando      Alonso   \n",
       "4           5         kovalainen         KOV    Heikki  Kovalainen   \n",
       "..        ...                ...    ...  ...       ...         ...   \n",
       "848       850  pietro_fittipaldi     51  FIT    Pietro  Fittipaldi   \n",
       "849       851             aitken     89  AIT      Jack      Aitken   \n",
       "850       852            tsunoda         TSU      Yuki     Tsunoda   \n",
       "851       853            mazepin         MAZ    Nikita     Mazepin   \n",
       "852       854    mick_schumacher         SCH      Mick  Schumacher   \n",
       "\n",
       "            dob nationality                                             url  \n",
       "0    1985-01-07     British     http://en.wikipedia.org/wiki/Lewis_Hamilton  \n",
       "1    1977-05-10      German      http://en.wikipedia.org/wiki/Nick_Heidfeld  \n",
       "2    1985-06-27      German       http://en.wikipedia.org/wiki/Nico_Rosberg  \n",
       "3    1981-07-29     Spanish    http://en.wikipedia.org/wiki/Fernando_Alonso  \n",
       "4    1981-10-19     Finnish  http://en.wikipedia.org/wiki/Heikki_Kovalainen  \n",
       "..          ...         ...                                             ...  \n",
       "848  1996-06-25   Brazilian  http://en.wikipedia.org/wiki/Pietro_Fittipaldi  \n",
       "849  1995-09-23     British        http://en.wikipedia.org/wiki/Jack_Aitken  \n",
       "850  2000-05-11    Japanese       http://en.wikipedia.org/wiki/Yuki_Tsunoda  \n",
       "851  1999-03-02     Russian     http://en.wikipedia.org/wiki/Nikita_Mazepin  \n",
       "852  1999-03-22      German    http://en.wikipedia.org/wiki/Mick_Schumacher  \n",
       "\n",
       "[853 rows x 9 columns]"
      ]
     },
     "execution_count": 26,
     "metadata": {},
     "output_type": "execute_result"
    }
   ],
   "source": [
    "dfFinalDrivers = pd.DataFrame(diccionario_drivers)\n",
    "dfFinalDrivers"
   ]
  },
  {
   "cell_type": "code",
   "execution_count": 27,
   "metadata": {},
   "outputs": [
    {
     "data": {
      "text/html": [
       "<div>\n",
       "<style scoped>\n",
       "    .dataframe tbody tr th:only-of-type {\n",
       "        vertical-align: middle;\n",
       "    }\n",
       "\n",
       "    .dataframe tbody tr th {\n",
       "        vertical-align: top;\n",
       "    }\n",
       "\n",
       "    .dataframe thead th {\n",
       "        text-align: right;\n",
       "    }\n",
       "</style>\n",
       "<table border=\"1\" class=\"dataframe\">\n",
       "  <thead>\n",
       "    <tr style=\"text-align: right;\">\n",
       "      <th></th>\n",
       "      <th>driverId</th>\n",
       "      <th>driverRef</th>\n",
       "      <th>number</th>\n",
       "      <th>code</th>\n",
       "      <th>name</th>\n",
       "      <th>surname</th>\n",
       "      <th>dob</th>\n",
       "      <th>nationality</th>\n",
       "      <th>url</th>\n",
       "    </tr>\n",
       "  </thead>\n",
       "  <tbody>\n",
       "    <tr>\n",
       "      <th>733</th>\n",
       "      <td>733</td>\n",
       "      <td>miller</td>\n",
       "      <td></td>\n",
       "      <td></td>\n",
       "      <td>Chet</td>\n",
       "      <td>Miller</td>\n",
       "      <td>1902-07-19</td>\n",
       "      <td>American</td>\n",
       "      <td>http://en.wikipedia.org/wiki/Chet_Miller</td>\n",
       "    </tr>\n",
       "    <tr>\n",
       "      <th>734</th>\n",
       "      <td>734</td>\n",
       "      <td>ball</td>\n",
       "      <td></td>\n",
       "      <td></td>\n",
       "      <td>Bobby</td>\n",
       "      <td>Ball</td>\n",
       "      <td>1925-08-26</td>\n",
       "      <td>American</td>\n",
       "      <td>http://en.wikipedia.org/wiki/Bobby_Ball_(auto_...</td>\n",
       "    </tr>\n",
       "    <tr>\n",
       "      <th>735</th>\n",
       "      <td>735</td>\n",
       "      <td>tornaco</td>\n",
       "      <td></td>\n",
       "      <td></td>\n",
       "      <td>Charles</td>\n",
       "      <td>de Tornaco</td>\n",
       "      <td>1927-06-07</td>\n",
       "      <td>Belgian</td>\n",
       "      <td>http://en.wikipedia.org/wiki/Charles_de_Tornaco</td>\n",
       "    </tr>\n",
       "    <tr>\n",
       "      <th>736</th>\n",
       "      <td>736</td>\n",
       "      <td>laurent</td>\n",
       "      <td></td>\n",
       "      <td></td>\n",
       "      <td>Roger</td>\n",
       "      <td>Laurent</td>\n",
       "      <td>1913-02-21</td>\n",
       "      <td>Belgian</td>\n",
       "      <td>http://en.wikipedia.org/wiki/Roger_Laurent</td>\n",
       "    </tr>\n",
       "    <tr>\n",
       "      <th>737</th>\n",
       "      <td>737</td>\n",
       "      <td>obrien</td>\n",
       "      <td></td>\n",
       "      <td></td>\n",
       "      <td>Robert</td>\n",
       "      <td>O'Brien</td>\n",
       "      <td>1908-04-11</td>\n",
       "      <td>American</td>\n",
       "      <td>http://en.wikipedia.org/wiki/Robert_O%27Brien_...</td>\n",
       "    </tr>\n",
       "    <tr>\n",
       "      <th>...</th>\n",
       "      <td>...</td>\n",
       "      <td>...</td>\n",
       "      <td>...</td>\n",
       "      <td>...</td>\n",
       "      <td>...</td>\n",
       "      <td>...</td>\n",
       "      <td>...</td>\n",
       "      <td>...</td>\n",
       "      <td>...</td>\n",
       "    </tr>\n",
       "    <tr>\n",
       "      <th>848</th>\n",
       "      <td>850</td>\n",
       "      <td>pietro_fittipaldi</td>\n",
       "      <td>51</td>\n",
       "      <td>FIT</td>\n",
       "      <td>Pietro</td>\n",
       "      <td>Fittipaldi</td>\n",
       "      <td>1996-06-25</td>\n",
       "      <td>Brazilian</td>\n",
       "      <td>http://en.wikipedia.org/wiki/Pietro_Fittipaldi</td>\n",
       "    </tr>\n",
       "    <tr>\n",
       "      <th>849</th>\n",
       "      <td>851</td>\n",
       "      <td>aitken</td>\n",
       "      <td>89</td>\n",
       "      <td>AIT</td>\n",
       "      <td>Jack</td>\n",
       "      <td>Aitken</td>\n",
       "      <td>1995-09-23</td>\n",
       "      <td>British</td>\n",
       "      <td>http://en.wikipedia.org/wiki/Jack_Aitken</td>\n",
       "    </tr>\n",
       "    <tr>\n",
       "      <th>850</th>\n",
       "      <td>852</td>\n",
       "      <td>tsunoda</td>\n",
       "      <td></td>\n",
       "      <td>TSU</td>\n",
       "      <td>Yuki</td>\n",
       "      <td>Tsunoda</td>\n",
       "      <td>2000-05-11</td>\n",
       "      <td>Japanese</td>\n",
       "      <td>http://en.wikipedia.org/wiki/Yuki_Tsunoda</td>\n",
       "    </tr>\n",
       "    <tr>\n",
       "      <th>851</th>\n",
       "      <td>853</td>\n",
       "      <td>mazepin</td>\n",
       "      <td></td>\n",
       "      <td>MAZ</td>\n",
       "      <td>Nikita</td>\n",
       "      <td>Mazepin</td>\n",
       "      <td>1999-03-02</td>\n",
       "      <td>Russian</td>\n",
       "      <td>http://en.wikipedia.org/wiki/Nikita_Mazepin</td>\n",
       "    </tr>\n",
       "    <tr>\n",
       "      <th>852</th>\n",
       "      <td>854</td>\n",
       "      <td>mick_schumacher</td>\n",
       "      <td></td>\n",
       "      <td>SCH</td>\n",
       "      <td>Mick</td>\n",
       "      <td>Schumacher</td>\n",
       "      <td>1999-03-22</td>\n",
       "      <td>German</td>\n",
       "      <td>http://en.wikipedia.org/wiki/Mick_Schumacher</td>\n",
       "    </tr>\n",
       "  </tbody>\n",
       "</table>\n",
       "<p>120 rows × 9 columns</p>\n",
       "</div>"
      ],
      "text/plain": [
       "     driverId          driverRef number code     name     surname         dob  \\\n",
       "733       733             miller                 Chet      Miller  1902-07-19   \n",
       "734       734               ball                Bobby        Ball  1925-08-26   \n",
       "735       735            tornaco              Charles  de Tornaco  1927-06-07   \n",
       "736       736            laurent                Roger     Laurent  1913-02-21   \n",
       "737       737             obrien               Robert     O'Brien  1908-04-11   \n",
       "..        ...                ...    ...  ...      ...         ...         ...   \n",
       "848       850  pietro_fittipaldi     51  FIT   Pietro  Fittipaldi  1996-06-25   \n",
       "849       851             aitken     89  AIT     Jack      Aitken  1995-09-23   \n",
       "850       852            tsunoda         TSU     Yuki     Tsunoda  2000-05-11   \n",
       "851       853            mazepin         MAZ   Nikita     Mazepin  1999-03-02   \n",
       "852       854    mick_schumacher         SCH     Mick  Schumacher  1999-03-22   \n",
       "\n",
       "    nationality                                                url  \n",
       "733    American           http://en.wikipedia.org/wiki/Chet_Miller  \n",
       "734    American  http://en.wikipedia.org/wiki/Bobby_Ball_(auto_...  \n",
       "735     Belgian    http://en.wikipedia.org/wiki/Charles_de_Tornaco  \n",
       "736     Belgian         http://en.wikipedia.org/wiki/Roger_Laurent  \n",
       "737    American  http://en.wikipedia.org/wiki/Robert_O%27Brien_...  \n",
       "..          ...                                                ...  \n",
       "848   Brazilian     http://en.wikipedia.org/wiki/Pietro_Fittipaldi  \n",
       "849     British           http://en.wikipedia.org/wiki/Jack_Aitken  \n",
       "850    Japanese          http://en.wikipedia.org/wiki/Yuki_Tsunoda  \n",
       "851     Russian        http://en.wikipedia.org/wiki/Nikita_Mazepin  \n",
       "852      German       http://en.wikipedia.org/wiki/Mick_Schumacher  \n",
       "\n",
       "[120 rows x 9 columns]"
      ]
     },
     "execution_count": 27,
     "metadata": {},
     "output_type": "execute_result"
    }
   ],
   "source": [
    "dfFinalDrivers.tail(120)"
   ]
  },
  {
   "cell_type": "code",
   "execution_count": 29,
   "metadata": {},
   "outputs": [],
   "source": [
    "dfFinalDrivers.to_csv(\"../PI01_DATA03/Datasets/drivers.csv\",encoding=\"utf-8\", index=False)"
   ]
  }
 ],
 "metadata": {
  "kernelspec": {
   "display_name": "Python 3.10.2 64-bit",
   "language": "python",
   "name": "python3"
  },
  "language_info": {
   "codemirror_mode": {
    "name": "ipython",
    "version": 3
   },
   "file_extension": ".py",
   "mimetype": "text/x-python",
   "name": "python",
   "nbconvert_exporter": "python",
   "pygments_lexer": "ipython3",
   "version": "3.10.2"
  },
  "orig_nbformat": 4,
  "vscode": {
   "interpreter": {
    "hash": "bf44cc7c1cfc51592617d22120f38030c3f9f6477d26729d83c56bd3daab49af"
   }
  }
 },
 "nbformat": 4,
 "nbformat_minor": 2
}
