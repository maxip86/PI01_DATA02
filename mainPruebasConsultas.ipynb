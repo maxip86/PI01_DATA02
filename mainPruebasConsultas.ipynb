{
 "cells": [
  {
   "cell_type": "code",
   "execution_count": 2,
   "metadata": {},
   "outputs": [],
   "source": [
    "import pymysql"
   ]
  },
  {
   "cell_type": "code",
   "execution_count": 3,
   "metadata": {},
   "outputs": [],
   "source": [
    "db = pymysql.connect(host= \"localhost\", database=\"PI01\", user=\"root\", passwd= \"MySQL1234\" )"
   ]
  },
  {
   "cell_type": "code",
   "execution_count": 4,
   "metadata": {},
   "outputs": [
    {
     "data": {
      "text/plain": [
       "2021"
      ]
     },
     "execution_count": 4,
     "metadata": {},
     "output_type": "execute_result"
    }
   ],
   "source": [
    "cursor = db.cursor()\n",
    "consulta1 = \"SELECT `year` as 'Año', count(*) as 'Cantidad de Carreras' FROM races GROUP BY `year` ORDER BY count(*) DESC LIMIT 1;\"\n",
    "cursor.execute(consulta1)\n",
    "datos1 = cursor.fetchone()\n",
    "db.close\n",
    "rta1 = datos1[0]\n",
    "rta1\n",
    "\n"
   ]
  },
  {
   "cell_type": "code",
   "execution_count": 5,
   "metadata": {},
   "outputs": [
    {
     "data": {
      "text/plain": [
       "('Lewis', 'Hamilton')"
      ]
     },
     "execution_count": 5,
     "metadata": {},
     "output_type": "execute_result"
    }
   ],
   "source": [
    "\n",
    "consulta2 = \"SELECT d.forename, d.surname, count(*) FROM results r JOIN drivers d ON (r.driverId = d.driverId) WHERE positionOrder = 1 GROUP BY r.driverId ORDER BY count(*) DESC LIMIT 1;\"\n",
    "cursor.execute(consulta2)\n",
    "datos2 = cursor.fetchone()\n",
    "rta2 = datos2[0:2]\n",
    "rta2"
   ]
  },
  {
   "cell_type": "code",
   "execution_count": 8,
   "metadata": {},
   "outputs": [
    {
     "data": {
      "text/plain": [
       "'Autodromo Nazionale di Monza'"
      ]
     },
     "execution_count": 8,
     "metadata": {},
     "output_type": "execute_result"
    }
   ],
   "source": [
    "consulta3 = \"SELECT r.circuitId, c.`name`, count(*) FROM races r JOIN circuitos c ON ( r.circuitId = c.circuitId) GROUP BY r.circuitId ORDER BY 3 DESC LIMIT 1;\"\n",
    "cursor.execute(consulta3)\n",
    "datos3 = cursor.fetchone()\n",
    "rta3 = datos3[1]\n",
    "rta3"
   ]
  },
  {
   "cell_type": "code",
   "execution_count": 7,
   "metadata": {},
   "outputs": [
    {
     "data": {
      "text/plain": [
       "('Jenson', 'Button')"
      ]
     },
     "execution_count": 7,
     "metadata": {},
     "output_type": "execute_result"
    }
   ],
   "source": [
    "consulta4 = \"SELECT r.driverId, d.forename, d.surname, c.constructorId, c.`name`, c.nationality , SUM(r.points) as Puntos FROM results r  JOIN drivers d ON (r.driverId = d.driverId) JOIN constructors c ON (r.constructorId = c.constructorId) WHERE (c.nationality = 'American' OR c.nationality = 'British') GROUP BY r.driverId ORDER BY Puntos DESC LIMIT 1;\"\n",
    "cursor.execute(consulta4)\n",
    "datos4 = cursor.fetchone()\n",
    "rta4 = datos4[1:3]\n",
    "rta4"
   ]
  },
  {
   "cell_type": "code",
   "execution_count": 75,
   "metadata": {},
   "outputs": [],
   "source": [
    "db.close()"
   ]
  }
 ],
 "metadata": {
  "kernelspec": {
   "display_name": "Python 3.10.2 64-bit",
   "language": "python",
   "name": "python3"
  },
  "language_info": {
   "codemirror_mode": {
    "name": "ipython",
    "version": 3
   },
   "file_extension": ".py",
   "mimetype": "text/x-python",
   "name": "python",
   "nbconvert_exporter": "python",
   "pygments_lexer": "ipython3",
   "version": "3.10.2"
  },
  "orig_nbformat": 4,
  "vscode": {
   "interpreter": {
    "hash": "bf44cc7c1cfc51592617d22120f38030c3f9f6477d26729d83c56bd3daab49af"
   }
  }
 },
 "nbformat": 4,
 "nbformat_minor": 2
}
